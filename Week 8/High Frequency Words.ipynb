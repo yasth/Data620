{
 "cells": [
  {
   "cell_type": "markdown",
   "id": "a31d9412",
   "metadata": {},
   "source": [
    "# 1. Choose a corpus of interest.\n"
   ]
  },
  {
   "cell_type": "code",
   "execution_count": null,
   "id": "e4f5491e",
   "metadata": {},
   "outputs": [],
   "source": []
  },
  {
   "cell_type": "markdown",
   "id": "2e9f8eef",
   "metadata": {},
   "source": [
    "2. How many total unique words are in the corpus? (Please feel free to define unique words in any interesting,\n",
    "defensible way).\n"
   ]
  },
  {
   "cell_type": "code",
   "execution_count": null,
   "id": "70ccf777",
   "metadata": {},
   "outputs": [],
   "source": []
  },
  {
   "cell_type": "markdown",
   "id": "91489820",
   "metadata": {},
   "source": [
    "3. Taking the most common words, how many unique words represent half of the total words in the corpus?\n"
   ]
  },
  {
   "cell_type": "code",
   "execution_count": null,
   "id": "5ae3d786",
   "metadata": {},
   "outputs": [],
   "source": []
  },
  {
   "cell_type": "markdown",
   "id": "3cc62220",
   "metadata": {},
   "source": [
    "4. Identify the 200 highest frequency words in this corpus.\n"
   ]
  },
  {
   "cell_type": "code",
   "execution_count": null,
   "id": "4c251206",
   "metadata": {},
   "outputs": [],
   "source": []
  },
  {
   "cell_type": "markdown",
   "id": "45825fd5",
   "metadata": {},
   "source": [
    "5. Create a graph that shows the relative frequency of these 200 words.\n"
   ]
  },
  {
   "cell_type": "code",
   "execution_count": null,
   "id": "39c4de91",
   "metadata": {},
   "outputs": [],
   "source": []
  },
  {
   "cell_type": "markdown",
   "id": "88f039c4",
   "metadata": {},
   "source": [
    "6. Does the observed relative frequency of these words follow Zipf’s law? Explain.\n"
   ]
  },
  {
   "cell_type": "code",
   "execution_count": null,
   "id": "7f6f96f5",
   "metadata": {},
   "outputs": [],
   "source": []
  },
  {
   "cell_type": "code",
   "execution_count": null,
   "id": "7c859d55",
   "metadata": {},
   "outputs": [],
   "source": [
    "7. In what ways do you think the frequency of the words in this corpus differ from “all words in all corpora.”"
   ]
  },
  {
   "cell_type": "code",
   "execution_count": null,
   "id": "8abf55b5",
   "metadata": {},
   "outputs": [],
   "source": []
  },
  {
   "cell_type": "code",
   "execution_count": null,
   "id": "1f7a143a",
   "metadata": {},
   "outputs": [],
   "source": []
  },
  {
   "cell_type": "code",
   "execution_count": null,
   "id": "8eec71bf",
   "metadata": {},
   "outputs": [],
   "source": []
  },
  {
   "cell_type": "code",
   "execution_count": null,
   "id": "88870622",
   "metadata": {},
   "outputs": [],
   "source": []
  }
 ],
 "metadata": {
  "kernelspec": {
   "display_name": "Python 3 (ipykernel)",
   "language": "python",
   "name": "python3"
  },
  "language_info": {
   "codemirror_mode": {
    "name": "ipython",
    "version": 3
   },
   "file_extension": ".py",
   "mimetype": "text/x-python",
   "name": "python",
   "nbconvert_exporter": "python",
   "pygments_lexer": "ipython3",
   "version": "3.9.7"
  }
 },
 "nbformat": 4,
 "nbformat_minor": 5
}
